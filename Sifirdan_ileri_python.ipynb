{
  "nbformat": 4,
  "nbformat_minor": 0,
  "metadata": {
    "colab": {
      "name": "Sifirdan_ileri_python.ipynb",
      "provenance": [],
      "authorship_tag": "ABX9TyNNp3+RYDnGcDwTG9YtM5pl",
      "include_colab_link": true
    },
    "kernelspec": {
      "name": "python3",
      "display_name": "Python 3"
    }
  },
  "cells": [
    {
      "cell_type": "markdown",
      "metadata": {
        "id": "view-in-github",
        "colab_type": "text"
      },
      "source": [
        "<a href=\"https://colab.research.google.com/github/aysefirat/Sifirdan-Ileri-Seviyeye-Python-Programlama/blob/master/Sifirdan_ileri_python.ipynb\" target=\"_parent\"><img src=\"https://colab.research.google.com/assets/colab-badge.svg\" alt=\"Open In Colab\"/></a>"
      ]
    },
    {
      "cell_type": "code",
      "metadata": {
        "colab": {
          "base_uri": "https://localhost:8080/"
        },
        "id": "L-oc64mFTQ9y",
        "outputId": "7b8e3b7e-0048-44de-f9ca-d7ff76c8211a"
      },
      "source": [
        "\r\n",
        "\"\"\"2. dereceden bir bilinmeyenli denklemin köklerini bulma\r\n",
        "\r\n",
        "Denklem : ax^2 + bx + c\r\n",
        "\r\n",
        "Deltayı Hesaplama:  b ** 2 -  4 * a * c\r\n",
        "\r\n",
        "Birinci Kök : (-b - delta ** 0.5) / (2*a)\r\n",
        "İkinci Kök : (-b + delta ** 0.5) / (2*a)\r\n",
        "\r\n",
        "\"\"\"\r\n",
        "a = int(input(\"Denklemin a değeri:\"))\r\n",
        "\r\n",
        "b = int(input(\"Denklemin b değeri:\"))\r\n",
        "\r\n",
        "c = int(input(\"Denklemin c değeri:\"))\r\n",
        "\r\n",
        "\r\n",
        "delta  = b ** 2 - 4  * a * c\r\n",
        "\r\n",
        "x1  =  (-b - delta ** 0.5)/ (2 * a)\r\n",
        "\r\n",
        "x2 = (-b + delta ** 0.5) / (2 * a)\r\n",
        "\r\n",
        "\r\n",
        "print(\"Birinci Kök : {}\\nİkinci Kök : {}\".format(x1,x2))\r\n",
        "\r\n"
      ],
      "execution_count": null,
      "outputs": [
        {
          "output_type": "stream",
          "text": [
            "Denklemin a değeri:4\n",
            "Denklemin b değeri:5\n",
            "Denklemin c değeri:6\n",
            "Birinci Kök : (-0.6250000000000001-1.0532687216470449j)\n",
            "İkinci Kök : (-0.6249999999999999+1.0532687216470449j)\n"
          ],
          "name": "stdout"
        }
      ]
    },
    {
      "cell_type": "code",
      "metadata": {
        "colab": {
          "base_uri": "https://localhost:8080/"
        },
        "id": "7iB_DheTTfYS",
        "outputId": "1ac321db-633e-4992-d83a-49d4aaad1d7c"
      },
      "source": [
        "print(\"Oyuncu Kaydetme Programı\")\r\n",
        "\r\n",
        "bilgiler = [] # Oyuncu bilgilerini saklayacağımız listemizi boş oluşturuyoruz.\r\n",
        "\r\n",
        "ad =  input(\"Oyuncunun Adı:\") # Kullanıcıdan Oyuncunun Ad Bilgisini alıyoruz.\r\n",
        "\r\n",
        "soyad = input(\"Oyuncunun Soyadı:\") # Kullanıcıdan Oyuncunun Soyad Bilgisini alıyoruz.\r\n",
        "\r\n",
        "takım = input(\"Oyuncunun Takımı:\") # Kullanıcıdan Oyuncunun Takım Bilgisini alıyoruz.\r\n",
        "\r\n",
        "bilgiler = [ad,soyad,takım] # Aldığımız bilgileri listeye atıyoruz.\r\n",
        "\r\n",
        "\r\n",
        "print(\"Bilgiler Kaydediliyor....\\n\")\r\n",
        "\r\n",
        "print(\"Oyuncu Adı: {}\\nOyuncu Soyadı: {}\\nTakım: {}\\n\".format(bilgiler[0],bilgiler[1],bilgiler[2]))\r\n",
        "\r\n",
        "\r\n",
        "print(\"Bilgiler Kaydedildi...\")\r\n"
      ],
      "execution_count": null,
      "outputs": [
        {
          "output_type": "stream",
          "text": [
            "Oyuncu Kaydetme Programı\n",
            "Oyuncunun Adı:ayşe\n",
            "Oyuncunun Soyadı:fırat\n",
            "Oyuncunun Takımı:raws\n",
            "Bilgiler Kaydediliyor....\n",
            "\n",
            "Oyuncu Adı: ayşe\n",
            "Oyuncu Soyadı: fırat\n",
            "Takım: raws\n",
            "\n",
            "Bilgiler Kaydedildi...\n"
          ],
          "name": "stdout"
        }
      ]
    },
    {
      "cell_type": "code",
      "metadata": {
        "colab": {
          "base_uri": "https://localhost:8080/"
        },
        "id": "HdB402ayUO9w",
        "outputId": "60ce6440-9189-4027-df1c-6b460f8ccb37"
      },
      "source": [
        "bilgiler = []\r\n",
        "\r\n",
        "ad = input('Oyuncunun adı: ')\r\n",
        "soyad = input('Oyuncunun soyadı: ')\r\n",
        "takım = input('Oyuncunun takımı: ')\r\n",
        "\r\n",
        "bilgiler = [ad,soyad,takım]\r\n",
        "\r\n",
        "print(\"Bilgiler Kaydediliyor...\\n\")\r\n",
        "print(\"Oyuncu Adı: {}\\nOyuncu Soyadı: {}\\nTakım: {}\\n\".format(bilgiler[0],bilgiler[1],bilgiler[2]))\r\n",
        "print(\"Bilgiler kaydedildi...\")\r\n"
      ],
      "execution_count": null,
      "outputs": [
        {
          "output_type": "stream",
          "text": [
            "Oyuncunun adı: Mert\n",
            "Oyuncunun soyadı: Kolay\n",
            "Oyuncunun takımı: Beşiktaş\n",
            "Bilgiler Kaydediliyor...\n",
            "\n",
            "Oyuncu Adı: Mert\n",
            "Oyuncu Soyadı: Kolay\n",
            "Takım: Beşiktaş\n",
            "\n",
            "Bilgiler kaydedildi...\n"
          ],
          "name": "stdout"
        }
      ]
    },
    {
      "cell_type": "code",
      "metadata": {
        "colab": {
          "base_uri": "https://localhost:8080/"
        },
        "id": "ekiQW2_mWyhs",
        "outputId": "3f43788e-5a19-415b-9077-12c3c73bcaad"
      },
      "source": [
        "\"\"\"Problem 1\r\n",
        "Kullanıcıdan aldığınız 3 tane sayıyı çarparak ekrana yazdırın. Ekrana yazdırma işlemini format metoduyla yapmaya çalışın.\"\"\"\r\n",
        "\r\n",
        "a = int(input(\"a:\"))\r\n",
        "b = int(input(\"b:\"))\r\n",
        "c = int(input(\"c:\"))\r\n",
        "\r\n",
        "mul = a*b*c\r\n",
        "\r\n",
        "print(\"a sayısı: {}\\nb sayısı: {}\\nc sayısı: {}\\nçarpım: {}\\n\".format(a,b,c, mul))"
      ],
      "execution_count": null,
      "outputs": [
        {
          "output_type": "stream",
          "text": [
            "a:23\n",
            "b:34\n",
            "c:21\n",
            "a sayısı: 23\n",
            "b sayısı: 34\n",
            "c sayısı: 21\n",
            "çarpım: 16422\n",
            "\n"
          ],
          "name": "stdout"
        }
      ]
    },
    {
      "cell_type": "code",
      "metadata": {
        "colab": {
          "base_uri": "https://localhost:8080/"
        },
        "id": "o2efHlsYYm5i",
        "outputId": "a3eb94b4-4bf5-4b8c-e330-e7b21d4ed465"
      },
      "source": [
        "\"\"\"Problem 2\r\n",
        "Kullanıcıdan aldığınız boy ve kilo değerlerine göre kullanıcının beden kitle indeksini bulun.\r\n",
        "\r\n",
        "Beden Kitle İndeksi : Kilo / Boy(m) Boy(m)\"\"\"\r\n",
        "\r\n",
        "boy = float(input(\"Boyunuzu girin:\"))\r\n",
        "kilo = float(input(\"Kilonuzu girin:\"))\r\n",
        "\r\n",
        "index = kilo / (boy*boy)\r\n",
        "\r\n",
        "print(\"index: {:.2f}\".format(index))\r\n",
        "\r\n",
        "if index < 18.5:\r\n",
        "  print('Zayıf')\r\n",
        "elif index >= 18 and index < 25:\r\n",
        "  print('Normal')\r\n",
        "elif index >= 25 and index < 30:\r\n",
        "  print('Fazla Kilolu')\r\n",
        "else:\r\n",
        "  print('Obez')"
      ],
      "execution_count": null,
      "outputs": [
        {
          "output_type": "stream",
          "text": [
            "Boyunuzu girin:1.56\n",
            "Kilonuzu girin:48\n",
            "index: 19.72\n",
            "Normal\n"
          ],
          "name": "stdout"
        }
      ]
    },
    {
      "cell_type": "code",
      "metadata": {
        "colab": {
          "base_uri": "https://localhost:8080/"
        },
        "id": "z_ZzGEmbgtgU",
        "outputId": "6b814da1-049e-4a9b-8c51-d3cf6a8ab4b6"
      },
      "source": [
        "\"\"\"Problem 3\r\n",
        "Bir aracın kilometrede ne kadar yaktığı ve kaç kilometre yol yaptığı bilgilerini alın ve sürücünü toplam ne kadar ödemesini gerektiğini hesaplayın.\"\"\"\r\n",
        "\r\n",
        "gaz = int(input(\"Tüketim miktarını giriniz:\"))\r\n",
        "yol = int(input(\"Kilometre giriniz:\"))\r\n",
        "\r\n",
        "top = gaz*yol\r\n",
        "\r\n",
        "ödeme = gaz*5\r\n",
        "\r\n",
        "print(\"Tüketim: {} lt\\km\\nKilometre: {} km\\nToplam: {} lt2\\nÖdenmesi gereken tutar: {} TL\".format(gaz,yol,top,ödeme))"
      ],
      "execution_count": null,
      "outputs": [
        {
          "output_type": "stream",
          "text": [
            "Tüketim miktarını giriniz:34\n",
            "Kilometre giriniz:3\n",
            "Tüketim: 34 lt\\km\n",
            "Kilometre: 3 km\n",
            "Toplam: 102 lt\n",
            "Ödenmesi gereken tutar: 170 TL\n"
          ],
          "name": "stdout"
        }
      ]
    },
    {
      "cell_type": "code",
      "metadata": {
        "id": "VCHkFgXdjCId",
        "colab": {
          "base_uri": "https://localhost:8080/"
        },
        "outputId": "415c65f6-5b72-42ee-cae8-cdb9a894c3e5"
      },
      "source": [
        "\"\"\"Kullanıcıdan 3 tane sayı alın ve en büyük sayıyı ekrana yazdırın.\"\"\"\r\n",
        "\r\n",
        "n1 = int(input(''))\r\n",
        "n2 = int(input(''))\r\n",
        "n3 = int(input(''))\r\n",
        "\r\n",
        "if n1 > n2 and n1 > n3:\r\n",
        "  print(n1)\r\n",
        "elif n2 > n1 and n2 > n3:\r\n",
        "  print(n2)\r\n",
        "else:\r\n",
        "  print(n3)"
      ],
      "execution_count": null,
      "outputs": [
        {
          "output_type": "stream",
          "text": [
            "3\n",
            "0\n",
            "1\n",
            "3\n"
          ],
          "name": "stdout"
        }
      ]
    },
    {
      "cell_type": "code",
      "metadata": {
        "colab": {
          "base_uri": "https://localhost:8080/"
        },
        "id": "K_E8RvfatcqB",
        "outputId": "d24bfca4-44a2-4b5d-dfc3-c79bc77c856d"
      },
      "source": [
        "şekil =  input(\"Hangi şeklin tipini öğrenmek istiyorsunuz?\")\r\n",
        "\r\n",
        "if (şekil == \"Dörtgen\"):\r\n",
        "    print(\"Lütfen kenarları sırayla giriniz.\")\r\n",
        "    a = int(input(\"Kenar-1:\"))\r\n",
        "    b = int(input(\"Kenar-2:\"))\r\n",
        "    c = int(input(\"Kenar-3:\"))\r\n",
        "    d = int(input(\"Kenar-4:\"))\r\n",
        "    \r\n",
        "    if (a == b and a == c and a == d):\r\n",
        "        print(\"Kare\")\r\n",
        "    elif (a == c and b == d):\r\n",
        "        print(\"Dikdörtgen\")\r\n",
        "    else:\r\n",
        "        print(\"Dörtgen\")\r\n",
        "        \r\n",
        "    \r\n",
        "    \r\n",
        "elif (şekil == \"Üçgen\"):\r\n",
        "    a = int(input(\"Kenar-1:\"))\r\n",
        "    b = int(input(\"Kenar-2:\"))\r\n",
        "    c = int(input(\"Kenar-3:\"))\r\n",
        "    if ( abs(a+b) > c and abs(a+c) > b and abs(b+c) > a):\r\n",
        "        if (a == b and a == c ):\r\n",
        "            print(\"Eşkenar Üçgen...\")\r\n",
        "        elif ((a == b and a != c) or (a == c and a != b) or (b == c and b != a)):\r\n",
        "            print(\"İkizkenar Üçgen....\")\r\n",
        "        else:\r\n",
        "            print(\"Çeşitkenar Üçgen...\")\r\n",
        "    else:\r\n",
        "        print(\"Üçgen belirtmiyor...\")\r\n",
        "        \r\n",
        "else:\r\n",
        "    print(\"Geçersiz Şekil...\")"
      ],
      "execution_count": null,
      "outputs": [
        {
          "output_type": "stream",
          "text": [
            "Hangi şeklin tipini öğrenmek istiyorsunuz?Dörtgen\n",
            "Lütfen kenarları sırayla giriniz.\n",
            "Kenar-1:2\n",
            "Kenar-2:6\n",
            "Kenar-3:2\n",
            "Kenar-4:6\n",
            "Dikdörtgen\n"
          ],
          "name": "stdout"
        }
      ]
    }
  ]
}